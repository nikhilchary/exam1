{
 "cells": [
  {
   "cell_type": "markdown",
   "metadata": {},
   "source": [
    "Question 1: Accept two int values from the user and return their product. If the product is greater than 1000, then return their sum"
   ]
  },
  {
   "cell_type": "markdown",
   "metadata": {},
   "source": [
    "a=int(input('enter the value of a:'))\n",
    "b=int(input('enter the value of b:'))\n",
    "z=a*b\n",
    "if z>1000:\n",
    "    print(a+b)\n",
    "else:\n",
    "    print(a*b)"
   ]
  },
  {
   "cell_type": "markdown",
   "metadata": {},
   "source": [
    "Question 2: Given a range of numbers. Iterate from o^th number to the end number and print the sum of the current number and previous number"
   ]
  },
  {
   "cell_type": "code",
   "execution_count": 26,
   "metadata": {},
   "outputs": [
    {
     "name": "stdout",
     "output_type": "stream",
     "text": [
      "1\n",
      "3\n",
      "5\n",
      "7\n",
      "9\n",
      "11\n",
      "13\n",
      "15\n",
      "17\n",
      "19\n"
     ]
    },
    {
     "data": {
      "text/plain": [
       "9"
      ]
     },
     "execution_count": 26,
     "metadata": {},
     "output_type": "execute_result"
    }
   ],
   "source": [
    "c=list(range(10))\n",
    "c\n",
    "for i in c:\n",
    "    print(i+(i+1))\n",
    "i    "
   ]
  },
  {
   "cell_type": "markdown",
   "metadata": {},
   "source": [
    "Question 3: Accept string from the user and display only those characters which are present at an even index"
   ]
  },
  {
   "cell_type": "code",
   "execution_count": 1,
   "metadata": {},
   "outputs": [
    {
     "name": "stdout",
     "output_type": "stream",
     "text": [
      "enter a name:nikhil\n",
      "index[ 0 ] n\n",
      "index[ 2 ] k\n",
      "index[ 4 ] i\n"
     ]
    }
   ],
   "source": [
    "s=str(input('enter a name:'))\n",
    "for i in range(0, len(s), 2):\n",
    "    print(\"index[\",i,\"]\", s[i] )\n",
    "\n",
    "    \n",
    "    \n",
    "    \n",
    "    "
   ]
  },
  {
   "cell_type": "markdown",
   "metadata": {},
   "source": [
    "Question 4: Given a string and an int n, remove characters from string starting from zero up to n and return a new string"
   ]
  },
  {
   "cell_type": "code",
   "execution_count": 2,
   "metadata": {},
   "outputs": [
    {
     "name": "stdout",
     "output_type": "stream",
     "text": [
      "enter a word:nikhil\n",
      "enter a index:2\n"
     ]
    },
    {
     "data": {
      "text/plain": [
       "'khil'"
      ]
     },
     "execution_count": 2,
     "metadata": {},
     "output_type": "execute_result"
    }
   ],
   "source": [
    "str=(input('enter a word:'))\n",
    "n=int(input('enter a index:'))\n",
    "r=str[n:]\n",
    "r\n"
   ]
  },
  {
   "cell_type": "markdown",
   "metadata": {},
   "source": []
  },
  {
   "cell_type": "code",
   "execution_count": 25,
   "metadata": {},
   "outputs": [
    {
     "data": {
      "text/plain": [
       "'M'"
      ]
     },
     "execution_count": 25,
     "metadata": {},
     "output_type": "execute_result"
    }
   ],
   "source": [
    "x=\"Mamatha\"\n",
    "\n",
    "x[0]"
   ]
  },
  {
   "cell_type": "markdown",
   "metadata": {},
   "source": [
    "Question 5: Given a list of ints, return True if first and last number of a list is same"
   ]
  },
  {
   "cell_type": "code",
   "execution_count": null,
   "metadata": {},
   "outputs": [],
   "source": [
    "def isFirst_And_Last_Same(numlist):\n",
    "    \n",
    "    fste=numlist[0]\n",
    "    lste=numlist[-1]\n",
    "    if fste==lste:\n",
    "        \n",
    "        print('true')\n",
    "    else:\n",
    "        \n",
    "         print('false')"
   ]
  },
  {
   "cell_type": "code",
   "execution_count": null,
   "metadata": {},
   "outputs": [],
   "source": [
    "numlist=[10,20,30,40,50,10]\n",
    "isFirst_And_Last_Same(numlist)"
   ]
  },
  {
   "cell_type": "markdown",
   "metadata": {},
   "source": [
    "Question 6: Given a list of numbers, Iterate it and print only those numbers which are divisible of 5"
   ]
  },
  {
   "cell_type": "code",
   "execution_count": 2,
   "metadata": {},
   "outputs": [],
   "source": [
    "def div5(numlist):\n",
    "    for num in numlist:\n",
    "        if num%5==0:\n",
    "            print(num)\n",
    "            \n",
    "            "
   ]
  },
  {
   "cell_type": "code",
   "execution_count": 3,
   "metadata": {},
   "outputs": [
    {
     "name": "stdout",
     "output_type": "stream",
     "text": [
      "10\n",
      "20\n",
      "30\n",
      "40\n",
      "50\n",
      "10\n"
     ]
    }
   ],
   "source": [
    "numlist=[10,20,30,40,50,10]\n",
    "div5(numlist)"
   ]
  },
  {
   "cell_type": "markdown",
   "metadata": {},
   "source": [
    "Question 8: Print the following pattern\n",
    "1 \n",
    "2 2 \n",
    "3 3 3 \n",
    "4 4 4 4 \n",
    "5 5 5 5 5"
   ]
  },
  {
   "cell_type": "code",
   "execution_count": 30,
   "metadata": {},
   "outputs": [
    {
     "name": "stdout",
     "output_type": "stream",
     "text": [
      "\n",
      "\n",
      "1 \n",
      "\n",
      "2 2 \n",
      "\n",
      "3 3 3 \n",
      "\n",
      "4 4 4 4 \n",
      "\n",
      "5 5 5 5 5 \n",
      "\n"
     ]
    }
   ],
   "source": [
    "for num in range(6):\n",
    "    for i in range(num):\n",
    "        print (num, end=\" \") #print number\n",
    "    # new line after each row to display pattern correctly\n",
    "    print(\"\\n\")"
   ]
  },
  {
   "cell_type": "markdown",
   "metadata": {},
   "source": [
    "Question 10: Given a two list of ints create a third list such that should contain only odd numbers from the first list and even numbers from the second list"
   ]
  },
  {
   "cell_type": "code",
   "execution_count": 40,
   "metadata": {},
   "outputs": [],
   "source": [
    "def mirgelist(list1,list2):\n",
    "    list3=[]\n",
    "    for num in list1:\n",
    "        if num%2!=0:\n",
    "            list3.append(num)\n",
    "    for num in list2:\n",
    "        if num%2!=0:\n",
    "            list3.append(num)\n",
    "    print(list3)          \n",
    "            \n",
    "            "
   ]
  },
  {
   "cell_type": "code",
   "execution_count": 42,
   "metadata": {},
   "outputs": [
    {
     "name": "stdout",
     "output_type": "stream",
     "text": [
      "[5, 7, 9, 3, 5, 7, 9, 1, 11]\n"
     ]
    }
   ],
   "source": [
    "list1=[10,2,5,7,9]\n",
    "list2=[3,5,7,9,1,11]\n",
    "x=mirgelist(list1,list2)\n",
    "x"
   ]
  },
  {
   "cell_type": "code",
   "execution_count": null,
   "metadata": {},
   "outputs": [],
   "source": []
  }
 ],
 "metadata": {
  "kernelspec": {
   "display_name": "Python 3",
   "language": "python",
   "name": "python3"
  }
 },
 "nbformat": 4,
 "nbformat_minor": 2
}
